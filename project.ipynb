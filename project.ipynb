{
 "cells": [
  {
   "cell_type": "code",
   "execution_count": 1,
   "metadata": {},
   "outputs": [
    {
     "name": "stdout",
     "output_type": "stream",
     "text": [
      "Countdown Timer\n",
      "00:00\n",
      "Time's up!\n"
     ]
    }
   ],
   "source": [
    "# project No: 1 \n",
    "import time\n",
    "\n",
    "# Function to implement the countdown timer\n",
    "def countdown_timer(seconds):\n",
    "    try:\n",
    "        while seconds > 0:\n",
    "            mins, secs = divmod(seconds, 60)\n",
    "            time_format = f'{mins:02d}:{secs:02d}'\n",
    "            print(time_format, end=\"\\r\")  # Overwrite the line on the console\n",
    "            time.sleep(1)  # Wait for 1 second\n",
    "            seconds -= 1\n",
    "        \n",
    "        print(\"00:00\")\n",
    "        print(\"Time's up!\")\n",
    "\n",
    "    except ValueError:\n",
    "        print(\"Invalid input. Please enter an integer.\")\n",
    "\n",
    "# Main function to get user input\n",
    "def main():\n",
    "    print(\"Countdown Timer\")\n",
    "    try:\n",
    "        seconds_input = int(input(\"Enter time in seconds: \"))\n",
    "        countdown_timer(seconds_input)\n",
    "    except ValueError:\n",
    "        print(\"Invalid input. Please enter an integer.\")\n",
    "\n",
    "if __name__ == \"__main__\":\n",
    "    main()"
   ]
  },
  {
   "cell_type": "code",
   "execution_count": 2,
   "metadata": {},
   "outputs": [
    {
     "name": "stdout",
     "output_type": "stream",
     "text": [
      "Countdown Timer\n",
      "Elapsed: 00:04 | Remaining: 00:00\n",
      "Time's up!\n"
     ]
    }
   ],
   "source": [
    "import time\n",
    "\n",
    "# Function to implement the countdown timer\n",
    "def countdown_timer(seconds):\n",
    "    start_time = time.time()  # Record the start time\n",
    "    elapsed = 0  # Track elapsed time\n",
    "    \n",
    "    try:\n",
    "        while seconds > 0:\n",
    "            elapsed = int(time.time() - start_time)  # Calculate elapsed time\n",
    "            remaining = seconds - elapsed  # Calculate remaining time\n",
    "\n",
    "            if remaining < 0:\n",
    "                break  # Stop if time runs out\n",
    "\n",
    "            mins_rem, secs_rem = divmod(remaining, 60)\n",
    "            mins_elap, secs_elap = divmod(elapsed, 60)\n",
    "\n",
    "            time_format = f'Elapsed: {mins_elap:02d}:{secs_elap:02d} | Remaining: {mins_rem:02d}:{secs_rem:02d}'\n",
    "            print(time_format, end=\"\\r\")  # Overwrite the line on the console\n",
    "\n",
    "            time.sleep(1)  # Wait for 1 second\n",
    "\n",
    "        print(\"\\nTime's up!\")  # Move to new line after countdown ends\n",
    "\n",
    "    except ValueError:\n",
    "        print(\"Invalid input. Please enter an integer.\")\n",
    "\n",
    "# Main function to get user input\n",
    "def main():\n",
    "    print(\"Countdown Timer\")\n",
    "    try:\n",
    "        seconds_input = int(input(\"Enter time in seconds: \"))\n",
    "        countdown_timer(seconds_input)\n",
    "    except ValueError:\n",
    "        print(\"Invalid input. Please enter an integer.\")\n",
    "\n",
    "if __name__ == \"__main__\":\n",
    "    main()"
   ]
  },
  {
   "cell_type": "code",
   "execution_count": 3,
   "metadata": {},
   "outputs": [
    {
     "name": "stdout",
     "output_type": "stream",
     "text": [
      "Countdown Timer\n",
      "Elapsed: 00:10 | Remaining: 00:10\n",
      "Elapsed: 00:11 | Remaining: 00:09\n",
      "Elapsed: 00:12 | Remaining: 00:08\n",
      "Elapsed: 00:13 | Remaining: 00:07\n",
      "Elapsed: 00:14 | Remaining: 00:06\n",
      "Elapsed: 00:15 | Remaining: 00:05\n",
      "Elapsed: 00:16 | Remaining: 00:04\n",
      "Elapsed: 00:17 | Remaining: 00:03\n",
      "Elapsed: 00:18 | Remaining: 00:02\n",
      "Elapsed: 00:19 | Remaining: 00:01\n",
      "Elapsed: 00:20 | Remaining: 00:00\n",
      "You have 0 seconds remaining!\n",
      "Time's up!\n"
     ]
    }
   ],
   "source": [
    "import time\n",
    "\n",
    "# Function to implement the countdown timer\n",
    "def countdown_timer(seconds):\n",
    "    start_time = time.time()  # Record the start time\n",
    "    elapsed = 0  # Track elapsed time\n",
    "    \n",
    "    try:\n",
    "        while seconds > 0:\n",
    "            elapsed = int(time.time() - start_time)  # Calculate elapsed time\n",
    "            remaining = seconds - elapsed  # Calculate remaining time\n",
    "\n",
    "            if remaining < 0:\n",
    "                break  # Stop if time runs out\n",
    "\n",
    "            mins_rem, secs_rem = divmod(remaining, 60)\n",
    "            mins_elap, secs_elap = divmod(elapsed, 60)\n",
    "\n",
    "            # Display the elapsed and remaining time\n",
    "            time_format = f'Elapsed: {mins_elap:02d}:{secs_elap:02d} | Remaining: {mins_rem:02d}:{secs_rem:02d}'\n",
    "            print(time_format, end=\"\\r\")  # Overwrite the line on the console\n",
    "\n",
    "            # Check for 10 seconds remaining\n",
    "            if remaining <= 10:\n",
    "                print(f\"\\nYou have {remaining} seconds remaining!\", end=\"\\r\")\n",
    "            \n",
    "            time.sleep(1)  # Wait for 1 second\n",
    "\n",
    "        print(\"\\nTime's up!\")  # Move to new line after countdown ends\n",
    "\n",
    "    except ValueError:\n",
    "        print(\"Invalid input. Please enter an integer.\")\n",
    "\n",
    "# Main function to get user input\n",
    "def main():\n",
    "    print(\"Countdown Timer\")\n",
    "    try:\n",
    "        seconds_input = int(input(\"Enter time in seconds: \"))\n",
    "        countdown_timer(seconds_input)\n",
    "    except ValueError:\n",
    "        print(\"Invalid input. Please enter an integer.\")\n",
    "\n",
    "if __name__ == \"__main__\":\n",
    "    main()"
   ]
  },
  {
   "cell_type": "code",
   "execution_count": null,
   "metadata": {},
   "outputs": [],
   "source": []
  }
 ],
 "metadata": {
  "kernelspec": {
   "display_name": "base",
   "language": "python",
   "name": "python3"
  },
  "language_info": {
   "codemirror_mode": {
    "name": "ipython",
    "version": 3
   },
   "file_extension": ".py",
   "mimetype": "text/x-python",
   "name": "python",
   "nbconvert_exporter": "python",
   "pygments_lexer": "ipython3",
   "version": "3.12.7"
  }
 },
 "nbformat": 4,
 "nbformat_minor": 2
}
